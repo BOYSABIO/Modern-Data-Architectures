{
 "cells": [
  {
   "cell_type": "markdown",
   "id": "ad4e181a-196a-4d1c-a966-04a2165d1936",
   "metadata": {},
   "source": [
    "# WEBM to MP3 (Fingerprinting Prep)"
   ]
  },
  {
   "cell_type": "code",
   "execution_count": null,
   "id": "07ceede0-aea2-4dab-80e4-585194730494",
   "metadata": {},
   "outputs": [],
   "source": [
    "# HDFS base paths\n",
    "hdfs_lakehouse_base_path = 'hdfs://localhost:9000/lakehouse/'\n",
    "hdfs_warehouse_base_path = 'hdfs://localhost:9000/warehouse'"
   ]
  },
  {
   "cell_type": "code",
   "execution_count": 2,
   "id": "1b02d748-5443-44c4-9a99-3ab0d43f9cc0",
   "metadata": {},
   "outputs": [
    {
     "name": "stderr",
     "output_type": "stream",
     "text": [
      "ffmpeg version 5.1.6-0+deb12u1 Copyright (c) 2000-2024 the FFmpeg developers\n",
      "  built with gcc 12 (Debian 12.2.0-14)\n",
      "  configuration: --prefix=/usr --extra-version=0+deb12u1 --toolchain=hardened --libdir=/usr/lib/x86_64-linux-gnu --incdir=/usr/include/x86_64-linux-gnu --arch=amd64 --enable-gpl --disable-stripping --enable-gnutls --enable-ladspa --enable-libaom --enable-libass --enable-libbluray --enable-libbs2b --enable-libcaca --enable-libcdio --enable-libcodec2 --enable-libdav1d --enable-libflite --enable-libfontconfig --enable-libfreetype --enable-libfribidi --enable-libglslang --enable-libgme --enable-libgsm --enable-libjack --enable-libmp3lame --enable-libmysofa --enable-libopenjpeg --enable-libopenmpt --enable-libopus --enable-libpulse --enable-librabbitmq --enable-librist --enable-librubberband --enable-libshine --enable-libsnappy --enable-libsoxr --enable-libspeex --enable-libsrt --enable-libssh --enable-libsvtav1 --enable-libtheora --enable-libtwolame --enable-libvidstab --enable-libvorbis --enable-libvpx --enable-libwebp --enable-libx265 --enable-libxml2 --enable-libxvid --enable-libzimg --enable-libzmq --enable-libzvbi --enable-lv2 --enable-omx --enable-openal --enable-opencl --enable-opengl --enable-sdl2 --disable-sndio --enable-libjxl --enable-pocketsphinx --enable-librsvg --enable-libmfx --enable-libdc1394 --enable-libdrm --enable-libiec61883 --enable-chromaprint --enable-frei0r --enable-libx264 --enable-libplacebo --enable-librav1e --enable-shared\n",
      "  libavutil      57. 28.100 / 57. 28.100\n",
      "  libavcodec     59. 37.100 / 59. 37.100\n",
      "  libavformat    59. 27.100 / 59. 27.100\n",
      "  libavdevice    59.  7.100 / 59.  7.100\n",
      "  libavfilter     8. 44.100 /  8. 44.100\n",
      "  libswscale      6.  7.100 /  6.  7.100\n",
      "  libswresample   4.  7.100 /  4.  7.100\n",
      "  libpostproc    56.  6.100 / 56.  6.100\n",
      "Input #0, matroska,webm, from '/home/osbdet/notebooks/spark/Modern-Data-Architectures/songs/Michael Jackson - Billie Jean (Official Video).webm':\n",
      "  Metadata:\n",
      "    encoder         : google/video-file\n",
      "  Duration: 00:04:55.86, start: -0.007000, bitrate: 133 kb/s\n",
      "  Stream #0:0(eng): Audio: opus, 48000 Hz, stereo, fltp (default)\n",
      "Stream mapping:\n",
      "  Stream #0:0 -> #0:0 (opus (native) -> mp3 (libmp3lame))\n",
      "Press [q] to stop, [?] for help\n",
      "Output #0, mp3, to '/home/osbdet/notebooks/spark/Modern-Data-Architectures/songs_mp3/Michael Jackson - Billie Jean (Official Video).mp3':\n",
      "  Metadata:\n",
      "    TSSE            : Lavf59.27.100\n",
      "  Stream #0:0(eng): Audio: mp3, 48000 Hz, stereo, fltp, 192 kb/s (default)\n",
      "    Metadata:\n",
      "      encoder         : Lavc59.37.100 libmp3lame\n",
      "size=    6400kB time=00:04:35.40 bitrate= 190.4kbits/s speed=55.1x    \r"
     ]
    },
    {
     "name": "stdout",
     "output_type": "stream",
     "text": [
      "Converted: Michael Jackson - Billie Jean (Official Video).webm -> /home/osbdet/notebooks/spark/Modern-Data-Architectures/songs_mp3/Michael Jackson - Billie Jean (Official Video).mp3\n"
     ]
    },
    {
     "name": "stderr",
     "output_type": "stream",
     "text": [
      "size=    6935kB time=00:04:55.85 bitrate= 192.0kbits/s speed=53.8x    \n",
      "video:0kB audio:6934kB subtitle:0kB other streams:0kB global headers:0kB muxing overhead: 0.008745%\n"
     ]
    }
   ],
   "source": [
    "import os\n",
    "import subprocess\n",
    "\n",
    "# FFMPEG_PATH = \"/home/osbdet/ffmpeg\"  # Ensure this path is correct\n",
    "\n",
    "# Define input (where your WEBM files are) and output folders\n",
    "input_folder = \"/home/osbdet/notebooks/spark/Modern-Data-Architectures/songs\" \n",
    "output_folder = \"/home/osbdet/notebooks/spark/Modern-Data-Architectures/songs_mp3\"\n",
    "os.makedirs(output_folder, exist_ok=True)  # Create output folder if it doesn't exist\n",
    "\n",
    "def convert_webm_to_mp3():\n",
    "    \"\"\"Convert all .webm files in a folder to .mp3\"\"\"\n",
    "    for file in os.listdir(input_folder):\n",
    "        if file.endswith(\".webm\"):\n",
    "            input_path = os.path.join(input_folder, file)\n",
    "            output_path = os.path.join(output_folder, file.replace(\".webm\", \".mp3\"))\n",
    "            \n",
    "            command = [\"ffmpeg\", \"-i\", input_path, \"-vn\", \"-ab\", \"192k\", output_path]\n",
    "            \n",
    "            # Run FFmpeg command\n",
    "            try:\n",
    "                subprocess.run(command, check=True)\n",
    "                print(f\"Converted: {file} -> {output_path}\")\n",
    "            except FileNotFoundError:\n",
    "                print(f\"Error: FFmpeg not found at {FFMPEG_PATH}\")\n",
    "                break\n",
    "            except subprocess.CalledProcessError as e:\n",
    "                print(f\"FFmpeg Error: {e}\")\n",
    "                break\n",
    "\n",
    "convert_webm_to_mp3()"
   ]
  }
 ],
 "metadata": {
  "kernelspec": {
   "display_name": "Python 3 (ipykernel)",
   "language": "python",
   "name": "python3"
  },
  "language_info": {
   "codemirror_mode": {
    "name": "ipython",
    "version": 3
   },
   "file_extension": ".py",
   "mimetype": "text/x-python",
   "name": "python",
   "nbconvert_exporter": "python",
   "pygments_lexer": "ipython3",
   "version": "3.11.2"
  }
 },
 "nbformat": 4,
 "nbformat_minor": 5
}
