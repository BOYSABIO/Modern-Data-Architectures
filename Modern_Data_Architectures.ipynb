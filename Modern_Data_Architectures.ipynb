{
 "cells": [
  {
   "cell_type": "markdown",
   "id": "0dab8917-e629-4826-b1b5-a1f9b6d40d88",
   "metadata": {},
   "source": [
    "# Modern Data Architectures Group Project"
   ]
  },
  {
   "cell_type": "code",
   "execution_count": 1,
   "id": "a4694d6d-cf35-428a-a258-57a78903d507",
   "metadata": {},
   "outputs": [],
   "source": [
    "import pandas as pd"
   ]
  }
 ],
 "metadata": {
  "kernelspec": {
   "display_name": "Python 3 (ipykernel)",
   "language": "python",
   "name": "python3"
  },
  "language_info": {
   "codemirror_mode": {
    "name": "ipython",
    "version": 3
   },
   "file_extension": ".py",
   "mimetype": "text/x-python",
   "name": "python",
   "nbconvert_exporter": "python",
   "pygments_lexer": "ipython3",
   "version": "3.11.2"
  }
 },
 "nbformat": 4,
 "nbformat_minor": 5
}
