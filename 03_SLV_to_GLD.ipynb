{
 "cells": [
  {
   "cell_type": "markdown",
   "id": "22dc1ac9-8e1d-4e7c-9202-68b530c889a4",
   "metadata": {},
   "source": [
    "# Creating Fingerprints"
   ]
  },
  {
   "cell_type": "code",
   "execution_count": null,
   "id": "4a0f3840-d674-4a54-9859-57fae06367ab",
   "metadata": {},
   "outputs": [],
   "source": [
    "pip install librosa"
   ]
  },
  {
   "cell_type": "code",
   "execution_count": null,
   "id": "1b74ad78-0dd6-446b-abd4-dc861fbd0bea",
   "metadata": {},
   "outputs": [],
   "source": [
    "# HDFS base paths\n",
    "hdfs_lakehouse_base_path = 'hdfs://localhost:9000/lakehouse/'\n",
    "hdfs_warehouse_base_path = 'hdfs://localhost:9000/warehouse'"
   ]
  },
  {
   "cell_type": "code",
   "execution_count": 1,
   "id": "089fd5db-d95f-4146-82f0-78f6ba5f5bd3",
   "metadata": {},
   "outputs": [
    {
     "name": "stdout",
     "output_type": "stream",
     "text": [
      "Fingerprint created for Michael Jackson - Billie Jean (Official Video).mp3\n"
     ]
    }
   ],
   "source": [
    "import librosa\n",
    "import librosa.display\n",
    "import numpy as np\n",
    "import os\n",
    "import matplotlib.pyplot as plt\n",
    "\n",
    "# Define folder containing MP3 files\n",
    "input_folder = \"songs_mp3\"  \n",
    "output_folder = \"fingerprints\"\n",
    "os.makedirs(output_folder, exist_ok=True)  \n",
    "\n",
    "def generate_fingerprint(file_path):\n",
    "    \"\"\"Extracts a fingerprint (spectrogram peaks) from an audio file\"\"\"\n",
    "    try:\n",
    "        # Load audio file\n",
    "        y, sr = librosa.load(file_path, sr=44100)\n",
    "        \n",
    "        # Compute Spectrogram\n",
    "        D = librosa.amplitude_to_db(np.abs(librosa.stft(y)), ref=np.max)\n",
    "        \n",
    "        # Get peaks in the spectrogram (Shazam-like fingerprinting)\n",
    "        peaks = np.argwhere(D > np.percentile(D, 95))  # Extract top 5% peaks\n",
    "        \n",
    "        # Convert peaks into a unique fingerprint\n",
    "        fingerprint = peaks.tolist()  # Convert to list format\n",
    "        \n",
    "        # Save fingerprint as a NumPy file\n",
    "        fingerprint_file = os.path.join(output_folder, os.path.basename(file_path).replace(\".mp3\", \".npy\"))\n",
    "        np.save(fingerprint_file, fingerprint)\n",
    "        \n",
    "        print(f\"Fingerprint created for {os.path.basename(file_path)}\")\n",
    "\n",
    "        plt.figure(figsize=(10, 6))\n",
    "        librosa.display.specshow(D, sr=sr, x_axis=\"time\", y_axis=\"log\")\n",
    "        plt.colorbar(format=\"%+2.0f dB\")\n",
    "        plt.title(f\"Spectrogram - {os.path.basename(file_path)}\")\n",
    "        plt.savefig(f\"{file_path.replace('.mp3', '.png')}\")\n",
    "        plt.close()\n",
    "\n",
    "    except Exception as e:\n",
    "        print(f\"Error processing {file_path}: {e}\")\n",
    "\n",
    "# Process all MP3 files in the folder\n",
    "for file in os.listdir(input_folder):\n",
    "    if file.endswith(\".mp3\"):\n",
    "        file_path = os.path.join(input_folder, file)\n",
    "        generate_fingerprint(file_path)"
   ]
  }
 ],
 "metadata": {
  "kernelspec": {
   "display_name": "Python 3 (ipykernel)",
   "language": "python",
   "name": "python3"
  },
  "language_info": {
   "codemirror_mode": {
    "name": "ipython",
    "version": 3
   },
   "file_extension": ".py",
   "mimetype": "text/x-python",
   "name": "python",
   "nbconvert_exporter": "python",
   "pygments_lexer": "ipython3",
   "version": "3.11.2"
  }
 },
 "nbformat": 4,
 "nbformat_minor": 5
}
